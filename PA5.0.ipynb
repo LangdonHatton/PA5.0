{
 "cells": [
  {
   "cell_type": "markdown",
   "id": "043f508d",
   "metadata": {},
   "source": [
    "# Langdon Hatton\n",
    "# cs-150-01\n",
    "# PA5"
   ]
  },
  {
   "cell_type": "markdown",
   "id": "20eae4b0",
   "metadata": {},
   "source": [
    "# Area of a triangle"
   ]
  },
  {
   "cell_type": "code",
   "execution_count": null,
   "id": "7dc35a56",
   "metadata": {},
   "outputs": [],
   "source": []
  },
  {
   "cell_type": "code",
   "execution_count": 18,
   "id": "54f3e209",
   "metadata": {},
   "outputs": [
    {
     "name": "stdout",
     "output_type": "stream",
     "text": [
      "Enter the length of side one: 1\n",
      "Enter the length of side two: 2\n",
      "Enter the length of side three: 3\n",
      "The area of the triangle is: 0.75  square units\n",
      "The perimeter of the triangle is: 6 units\n"
     ]
    }
   ],
   "source": [
    "h=1\n",
    "b=1\n",
    "w=1\n",
    "\n",
    "def calcperim(h,b,w):\n",
    "    return(h+b+w)\n",
    "def calcarea(h,b,w):\n",
    "    return((s * (s - h) * (s - b) * (s - w)) ** 0.5)\n",
    "s=calcperim(h,b,w)*.5\n",
    "h=int(input('Enter the length of side one: '))\n",
    "b=int(input('Enter the length of side two: '))\n",
    "w=int(input('Enter the length of side three: '))\n",
    "print('The area of the triangle is: {:.2f} ' .format(calcarea(h,b,w)),'square units')\n",
    "print('The perimeter of the triangle is:', calcperim(h,b,w),'units')\n"
   ]
  },
  {
   "cell_type": "markdown",
   "id": "058d66d6",
   "metadata": {},
   "source": [
    "# random number game"
   ]
  },
  {
   "cell_type": "code",
   "execution_count": 36,
   "id": "0a33b926",
   "metadata": {},
   "outputs": [
    {
     "name": "stdout",
     "output_type": "stream",
     "text": [
      "Enter a number from one to one thousand: 1\n",
      "Too low. Guess again.\n",
      "Enter a number from one to one thousand: 500\n",
      "Too high. Guess again\n",
      "Enter a number from one to one thousand: 400\n",
      "Too high. Guess again\n",
      "Enter a number from one to one thousand: 300\n",
      "Too low. Guess again.\n",
      "Enter a number from one to one thousand: 350\n",
      "Too high. Guess again\n",
      "Enter a number from one to one thousand: 340\n",
      "Too low. Guess again.\n",
      "Enter a number from one to one thousand: 345\n",
      "Too low. Guess again.\n",
      "Enter a number from one to one thousand: 346\n",
      "Too low. Guess again.\n",
      "Enter a number from one to one thousand: 347\n",
      "Correct\n"
     ]
    }
   ],
   "source": [
    "import random\n",
    "number=random.randint(1,1000)  \n",
    "enterednum=None\n",
    "\n",
    "\n",
    "while enterednum!=number:\n",
    "    evaluateGuess= int(input('Enter a number from one to one thousand: '))\n",
    "    if evaluateGuess==number:\n",
    "        print('Correct') \n",
    "    if evaluateGuess==number:\n",
    "        break\n",
    "    if evaluateGuess<number:\n",
    "        print('Too low. Guess again.')\n",
    "    if evaluateGuess>number:\n",
    "        print('Too high. Guess again')\n",
    "    \n",
    "       "
   ]
  },
  {
   "cell_type": "code",
   "execution_count": null,
   "id": "bac07e00",
   "metadata": {},
   "outputs": [],
   "source": [
    "\n",
    "    "
   ]
  },
  {
   "cell_type": "code",
   "execution_count": 84,
   "id": "317da3f1",
   "metadata": {},
   "outputs": [
    {
     "name": "stdout",
     "output_type": "stream",
     "text": [
      "Over the past 11 days the average temperatur has been 34.72727272727273 degrees farenheight\n"
     ]
    }
   ],
   "source": [
    "from statistics import mean\n",
    "total=0\n",
    "meanTemp=[33,34,36,35,36,36,35,34,36,35,32]\n",
    "for f in range(0, len(meanTemp)):\n",
    "    total = total + meanTemp[f]\n",
    "print('Over the past' , len(meanTemp), 'days the average temperatur has been' ,total/len(meanTemp),'degrees farenheight')\n"
   ]
  },
  {
   "cell_type": "code",
   "execution_count": 85,
   "id": "bf2d9ef3",
   "metadata": {},
   "outputs": [
    {
     "name": "stdout",
     "output_type": "stream",
     "text": [
      "Over the past 9 days the average temperatur has been 35.0 degrees farenheight\n"
     ]
    }
   ],
   "source": [
    "from statistics import mean\n",
    "total=0\n",
    "meanTemp=[33,34,36,35,36,36,35,34,36]\n",
    "for f in range(0, len(meanTemp)):\n",
    "    total = total + meanTemp[f]\n",
    "print('Over the past' , len(meanTemp), 'days the average temperatur has been' ,total/len(meanTemp),'degrees farenheight')\n"
   ]
  },
  {
   "cell_type": "code",
   "execution_count": 86,
   "id": "293e9a83",
   "metadata": {},
   "outputs": [
    {
     "name": "stdout",
     "output_type": "stream",
     "text": [
      "Over the past 8 days the average temperatur has been 34.875 degrees farenheight\n"
     ]
    }
   ],
   "source": [
    "from statistics import mean\n",
    "total=0\n",
    "meanTemp=[33,34,36,35,36,36,35,34]\n",
    "for f in range(0, len(meanTemp)):\n",
    "    total = total + meanTemp[f]\n",
    "print('Over the past' , len(meanTemp), 'days the average temperatur has been' ,total/len(meanTemp),'degrees farenheight')\n"
   ]
  },
  {
   "cell_type": "code",
   "execution_count": null,
   "id": "c0d02a32",
   "metadata": {},
   "outputs": [],
   "source": []
  },
  {
   "cell_type": "code",
   "execution_count": null,
   "id": "4d7cac96",
   "metadata": {},
   "outputs": [],
   "source": []
  }
 ],
 "metadata": {
  "kernelspec": {
   "display_name": "Python 3 (ipykernel)",
   "language": "python",
   "name": "python3"
  },
  "language_info": {
   "codemirror_mode": {
    "name": "ipython",
    "version": 3
   },
   "file_extension": ".py",
   "mimetype": "text/x-python",
   "name": "python",
   "nbconvert_exporter": "python",
   "pygments_lexer": "ipython3",
   "version": "3.9.12"
  }
 },
 "nbformat": 4,
 "nbformat_minor": 5
}
